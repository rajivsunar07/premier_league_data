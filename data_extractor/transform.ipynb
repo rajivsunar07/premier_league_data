{
 "cells": [
  {
   "cell_type": "code",
   "execution_count": 1,
   "metadata": {},
   "outputs": [],
   "source": [
    "from pyspark.sql import SparkSession"
   ]
  },
  {
   "cell_type": "code",
   "execution_count": 2,
   "metadata": {},
   "outputs": [
    {
     "name": "stdout",
     "output_type": "stream",
     "text": [
      "22/10/24 11:04:34 WARN Utils: Your hostname, Rajivs-MacBook-Pro.local resolves to a loopback address: 127.0.0.1; using 192.168.1.69 instead (on interface en0)\n",
      "22/10/24 11:04:34 WARN Utils: Set SPARK_LOCAL_IP if you need to bind to another address\n"
     ]
    },
    {
     "name": "stderr",
     "output_type": "stream",
     "text": [
      "Setting default log level to \"WARN\".\n",
      "To adjust logging level use sc.setLogLevel(newLevel). For SparkR, use setLogLevel(newLevel).\n"
     ]
    },
    {
     "name": "stdout",
     "output_type": "stream",
     "text": [
      "22/10/24 11:04:35 WARN NativeCodeLoader: Unable to load native-hadoop library for your platform... using builtin-java classes where applicable\n"
     ]
    }
   ],
   "source": [
    "spark = SparkSession.builder \\\n",
    "    .master(\"local\") \\\n",
    "    .appName(\"Word Count\") \\\n",
    "    .getOrCreate()"
   ]
  },
  {
   "cell_type": "code",
   "execution_count": 23,
   "metadata": {},
   "outputs": [],
   "source": [
    "destination_dir = \"/Users/rajivsunar/Documents/projects/premier_league_data/data\"\n",
    "fixtures_df = spark.read.json(destination_dir + \"/fixtures.json\")\n",
    "teams_df = spark.read.json(destination_dir + \"/teams.json\")\n",
    "events_df = spark.read.json(destination_dir + \"/events.json\")"
   ]
  },
  {
   "cell_type": "code",
   "execution_count": 14,
   "metadata": {},
   "outputs": [
    {
     "name": "stdout",
     "output_type": "stream",
     "text": [
      "root\n",
      " |-- code: long (nullable = true)\n",
      " |-- event: long (nullable = true)\n",
      " |-- finished: boolean (nullable = true)\n",
      " |-- finished_provisional: boolean (nullable = true)\n",
      " |-- id: long (nullable = true)\n",
      " |-- kickoff_time: string (nullable = true)\n",
      " |-- minutes: long (nullable = true)\n",
      " |-- provisional_start_time: boolean (nullable = true)\n",
      " |-- pulse_id: long (nullable = true)\n",
      " |-- started: boolean (nullable = true)\n",
      " |-- team_a: long (nullable = true)\n",
      " |-- team_a_difficulty: long (nullable = true)\n",
      " |-- team_a_score: long (nullable = true)\n",
      " |-- team_h: long (nullable = true)\n",
      " |-- team_h_difficulty: long (nullable = true)\n",
      " |-- team_h_score: long (nullable = true)\n",
      "\n"
     ]
    },
    {
     "ename": "TypeError",
     "evalue": "'NoneType' object is not iterable",
     "output_type": "error",
     "traceback": [
      "\u001b[0;31m---------------------------------------------------------------------------\u001b[0m",
      "\u001b[0;31mTypeError\u001b[0m                                 Traceback (most recent call last)",
      "Cell \u001b[0;32mIn [14], line 1\u001b[0m\n\u001b[0;32m----> 1\u001b[0m \u001b[39mlist\u001b[39;49m(fixtures_df\u001b[39m.\u001b[39;49mdrop(\u001b[39m\"\u001b[39;49m\u001b[39mstats\u001b[39;49m\u001b[39m\"\u001b[39;49m)\u001b[39m.\u001b[39;49mprintSchema())\n",
      "\u001b[0;31mTypeError\u001b[0m: 'NoneType' object is not iterable"
     ]
    }
   ],
   "source": [
    "list(fixtures_df.drop(\"stats\").printSchema())"
   ]
  },
  {
   "cell_type": "code",
   "execution_count": 8,
   "metadata": {},
   "outputs": [
    {
     "name": "stdout",
     "output_type": "stream",
     "text": [
      "+-------+-----+------+------+\n",
      "|   code|event|team_a|team_h|\n",
      "+-------+-----+------+------+\n",
      "|2292911|   11|     5|     4|\n",
      "|2292914|   11|     7|    10|\n",
      "|2292912|   11|     3|     9|\n",
      "|2292919|   11|    16|    20|\n",
      "|2292918|   11|     8|    18|\n",
      "|2292910|   11|     6|     2|\n",
      "|2292913|   11|     1|    11|\n",
      "|2292916|   11|    15|    14|\n",
      "|2292917|   11|    19|    17|\n",
      "|2292915|   11|    13|    12|\n",
      "+-------+-----+------+------+\n",
      "\n"
     ]
    }
   ],
   "source": [
    "fixtures_df.filter(fixtures_df.event == 11).select(\"code\", \"event\", \"team_a\", \"team_h\").show()"
   ]
  },
  {
   "cell_type": "code",
   "execution_count": 27,
   "metadata": {},
   "outputs": [
    {
     "name": "stdout",
     "output_type": "stream",
     "text": [
      "+--------------+-----+-----------+------------+------------+--------+-------+--------------------+-------+\n",
      "|   team_a_name|event|team_h_name|team_a_score|team_h_score|finished|minutes|        kickoff_time|started|\n",
      "+--------------+-----+-----------+------------+------------+--------+-------+--------------------+-------+\n",
      "|      Brighton|   11|  Brentford|           0|           2|    true|     90|2022-10-14T19:00:00Z|   true|\n",
      "|Crystal Palace|   11|  Leicester|           0|           0|    true|     90|2022-10-15T11:30:00Z|   true|\n",
      "|   Bournemouth|   11|     Fulham|           2|           2|    true|     90|2022-10-15T14:00:00Z|   true|\n",
      "| Nott'm Forest|   11|     Wolves|           0|           1|    true|     90|2022-10-15T14:00:00Z|   true|\n",
      "|       Everton|   11|      Spurs|           0|           2|    true|     90|2022-10-15T16:30:00Z|   true|\n",
      "|       Chelsea|   11|Aston Villa|           2|           0|    true|     90|2022-10-16T13:00:00Z|   true|\n",
      "|       Arsenal|   11|      Leeds|           1|           0|    true|     90|2022-10-16T13:00:00Z|   true|\n",
      "|     Newcastle|   11|    Man Utd|           0|           0|    true|     90|2022-10-16T13:00:00Z|   true|\n",
      "|      West Ham|   11|Southampton|           1|           1|    true|     90|2022-10-16T13:00:00Z|   true|\n",
      "|      Man City|   11|  Liverpool|           0|           1|    true|     90|2022-10-16T15:30:00Z|   true|\n",
      "+--------------+-----+-----------+------------+------------+--------+-------+--------------------+-------+\n",
      "\n"
     ]
    }
   ],
   "source": [
    "f_a = fixtures_df.join(teams_df, fixtures_df[\"team_a\"] == teams_df[\"id\"]).withColumnRenamed(\"name\", \"team_a_name\")\\\n",
    "    .select(\"team_a_name\", \"event\", \"team_h\", \"team_h_score\", \"team_a_score\", \"finished\", \"minutes\", \"kickoff_time\", \"started\")\\\n",
    "    .join(teams_df, fixtures_df[\"team_h\"] == teams_df[\"id\"]).withColumnRenamed(\"name\", \"team_h_name\")\\\n",
    "    .select(\"team_a_name\", \"event\", \"team_h_name\", \"team_a_score\", \"team_h_score\",  \"finished\", \"minutes\", \"kickoff_time\", \"started\")\n",
    "# f_h = f_a.join(teams_df, fixtures_df[\"team_h\"] == teams_df[\"code\"]).withColumnRenamed(\"name\", \"team_h_name\")\n",
    "f_a.filter(f_a.event == 11).show()\n",
    "\n",
    "# f_h = f_a.join(teams_df, f_a[\"team_h\"] == teams_df[\"id\"]).withColumnRenamed(\"name\", \"team_h_name\")\\\n",
    "#     .select(\"team_a_name\", \"event\", \"team_h_name\", \"team_a_score\", \"team_h_score\",  \"finished\", \"minutes\", \"kickoff_time\", \"started\")\n",
    "# f_h.filter(f_h.event == 13).show()\n",
    "# f_a.select(\"event\", \"team_a\", \"team_h\", \"team_a_name\").filter(f_a[\"event\" == 11]).show()\n",
    "# f_h = f_a.join(teams_df, f_a[\"team_h\"] == teams_df[\"code\"])"
   ]
  },
  {
   "cell_type": "code",
   "execution_count": 26,
   "metadata": {},
   "outputs": [
    {
     "name": "stdout",
     "output_type": "stream",
     "text": [
      "+--------------+--------------+------------+------------+--------+-------+--------------------+-------+----------+\n",
      "|   team_a_name|   team_h_name|team_a_score|team_h_score|finished|minutes|        kickoff_time|started|      name|\n",
      "+--------------+--------------+------------+------------+--------+-------+--------------------+-------+----------+\n",
      "|       Arsenal|Crystal Palace|           2|           0|    true|     90|2022-08-05T19:00:00Z|   true|Gameweek 1|\n",
      "|     Liverpool|        Fulham|           2|           2|    true|     90|2022-08-06T11:30:00Z|   true|Gameweek 1|\n",
      "|   Aston Villa|   Bournemouth|           0|           2|    true|     90|2022-08-06T14:00:00Z|   true|Gameweek 1|\n",
      "|        Wolves|         Leeds|           1|           2|    true|     90|2022-08-06T14:00:00Z|   true|Gameweek 1|\n",
      "| Nott'm Forest|     Newcastle|           0|           2|    true|     90|2022-08-06T14:00:00Z|   true|Gameweek 1|\n",
      "|   Southampton|         Spurs|           1|           4|    true|     90|2022-08-06T14:00:00Z|   true|Gameweek 1|\n",
      "|       Chelsea|       Everton|           1|           0|    true|     90|2022-08-06T16:30:00Z|   true|Gameweek 1|\n",
      "|     Brentford|     Leicester|           2|           2|    true|     90|2022-08-07T13:00:00Z|   true|Gameweek 1|\n",
      "|      Brighton|       Man Utd|           2|           1|    true|     90|2022-08-07T13:00:00Z|   true|Gameweek 1|\n",
      "|      Man City|      West Ham|           2|           0|    true|     90|2022-08-07T15:30:00Z|   true|Gameweek 1|\n",
      "|       Everton|   Aston Villa|           1|           2|    true|     90|2022-08-13T11:30:00Z|   true|Gameweek 2|\n",
      "|     Leicester|       Arsenal|           2|           4|    true|     90|2022-08-13T14:00:00Z|   true|Gameweek 2|\n",
      "|     Newcastle|      Brighton|           0|           0|    true|     90|2022-08-13T14:00:00Z|   true|Gameweek 2|\n",
      "|   Bournemouth|      Man City|           0|           4|    true|     90|2022-08-13T14:00:00Z|   true|Gameweek 2|\n",
      "|         Leeds|   Southampton|           2|           2|    true|     90|2022-08-13T14:00:00Z|   true|Gameweek 2|\n",
      "|        Fulham|        Wolves|           0|           0|    true|     90|2022-08-13T14:00:00Z|   true|Gameweek 2|\n",
      "|       Man Utd|     Brentford|           0|           4|    true|     90|2022-08-13T16:30:00Z|   true|Gameweek 2|\n",
      "|      West Ham| Nott'm Forest|           0|           1|    true|     90|2022-08-14T13:00:00Z|   true|Gameweek 2|\n",
      "|         Spurs|       Chelsea|           2|           2|    true|     90|2022-08-14T15:30:00Z|   true|Gameweek 2|\n",
      "|Crystal Palace|     Liverpool|           1|           1|    true|     90|2022-08-15T19:00:00Z|   true|Gameweek 2|\n",
      "+--------------+--------------+------------+------------+--------+-------+--------------------+-------+----------+\n",
      "only showing top 20 rows\n",
      "\n"
     ]
    }
   ],
   "source": [
    "# joining gameweek\n",
    "events = events_df.select(\"id\", \"name\")\n",
    "f_e = f_h.join(events, f_h[\"event\"] == events[\"id\"]).drop(\"id\", \"event\")\n",
    "f_e.show()"
   ]
  },
  {
   "cell_type": "code",
   "execution_count": 44,
   "metadata": {},
   "outputs": [
    {
     "name": "stdout",
     "output_type": "stream",
     "text": [
      "+-----+------+------+\n",
      "|event|team_a|team_h|\n",
      "+-----+------+------+\n",
      "|   11|     5|     4|\n",
      "|   11|     7|    10|\n",
      "|   11|     3|     9|\n",
      "|   11|    16|    20|\n",
      "|   11|     8|    18|\n",
      "|   11|     6|     2|\n",
      "|   11|     1|    11|\n",
      "|   11|    15|    14|\n",
      "|   11|    19|    17|\n",
      "|   11|    13|    12|\n",
      "+-----+------+------+\n",
      "\n"
     ]
    }
   ],
   "source": [
    "eleven = fixtures_df.filter(fixtures_df.event == 11).select(\"event\", \"team_a\", \"team_h\")\n",
    "eleven.show()"
   ]
  },
  {
   "cell_type": "code",
   "execution_count": 45,
   "metadata": {},
   "outputs": [
    {
     "name": "stdout",
     "output_type": "stream",
     "text": [
      "+-----+------+------+\n",
      "|event|team_a|team_h|\n",
      "+-----+------+------+\n",
      "|   11|     5|     4|\n",
      "|   11|     7|    10|\n",
      "|   11|     3|     9|\n",
      "|   11|    16|    20|\n",
      "|   11|     8|    18|\n",
      "|   11|     6|     2|\n",
      "|   11|     1|    11|\n",
      "|   11|    15|    14|\n",
      "|   11|    19|    17|\n",
      "|   11|    13|    12|\n",
      "+-----+------+------+\n",
      "\n"
     ]
    }
   ],
   "source": [
    "eleven.join(teams_df, eleven[\"team_a\"] == teams_df[\"id\"]).select(\"event\", \"team_a\", \"team_h\").show()"
   ]
  }
 ],
 "metadata": {
  "kernelspec": {
   "display_name": "Python 3.9.5 ('data_extractor--p29-jjm')",
   "language": "python",
   "name": "python3"
  },
  "language_info": {
   "codemirror_mode": {
    "name": "ipython",
    "version": 3
   },
   "file_extension": ".py",
   "mimetype": "text/x-python",
   "name": "python",
   "nbconvert_exporter": "python",
   "pygments_lexer": "ipython3",
   "version": "3.9.5"
  },
  "orig_nbformat": 4,
  "vscode": {
   "interpreter": {
    "hash": "73c2ad423b297c8a66fc5d2b87d12a373453ccfcc7b3538b9a96db12a382e679"
   }
  }
 },
 "nbformat": 4,
 "nbformat_minor": 2
}
